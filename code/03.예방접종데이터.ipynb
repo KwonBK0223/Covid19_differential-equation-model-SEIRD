{
 "cells": [
  {
   "cell_type": "code",
   "execution_count": 1,
   "id": "c85507cf",
   "metadata": {},
   "outputs": [],
   "source": [
    "import pandas as pd\n",
    "import matplotlib as mpl\n",
    "import matplotlib.pyplot as plt\n",
    "\n",
    "mpl.rc('font', family = 'Gulim')\n",
    "mpl.rcParams['axes.unicode_minus']=False"
   ]
  },
  {
   "cell_type": "code",
   "execution_count": 2,
   "id": "94901f21",
   "metadata": {
    "scrolled": true
   },
   "outputs": [
    {
     "name": "stdout",
     "output_type": "stream",
     "text": [
      "Requirement already satisfied: xlrd in c:\\users\\lg\\anaconda3\\lib\\site-packages (2.0.1)\n",
      "Note: you may need to restart the kernel to use updated packages.\n"
     ]
    }
   ],
   "source": [
    "pip install xlrd"
   ]
  },
  {
   "cell_type": "code",
   "execution_count": 3,
   "id": "022186fc",
   "metadata": {},
   "outputs": [],
   "source": [
    "a = pd.read_excel(\"백신별일일접종현황_20230717.xls\")"
   ]
  },
  {
   "cell_type": "code",
   "execution_count": 4,
   "id": "df6388b3",
   "metadata": {},
   "outputs": [],
   "source": [
    "a = a.iloc[::-1]\n",
    "a = a.reset_index()\n",
    "a = a.iloc[:,1:]\n",
    "a = a.iloc[:-1]"
   ]
  },
  {
   "cell_type": "code",
   "execution_count": 5,
   "id": "88c0e0ff",
   "metadata": {},
   "outputs": [],
   "source": [
    "a[\"year\"] = 0\n",
    "a[\"month\"] = 0\n",
    "a[\"day\"] = 0"
   ]
  },
  {
   "cell_type": "code",
   "execution_count": 6,
   "id": "9d958544",
   "metadata": {},
   "outputs": [],
   "source": [
    "a[\"일자\"] = pd.to_datetime(a[\"일자\"])"
   ]
  },
  {
   "cell_type": "code",
   "execution_count": 7,
   "id": "12ce8f0d",
   "metadata": {},
   "outputs": [],
   "source": [
    "a[\"year\"] = a[\"일자\"].dt.year\n",
    "a[\"month\"] = a[\"일자\"].dt.month\n",
    "a[\"day\"] = a[\"일자\"].dt.day"
   ]
  },
  {
   "cell_type": "code",
   "execution_count": 8,
   "id": "32658eeb",
   "metadata": {},
   "outputs": [
    {
     "name": "stdout",
     "output_type": "stream",
     "text": [
      "<class 'pandas.core.frame.DataFrame'>\n",
      "RangeIndex: 863 entries, 0 to 862\n",
      "Data columns (total 26 columns):\n",
      " #   Column           Non-Null Count  Dtype         \n",
      "---  ------           --------------  -----         \n",
      " 0   일자               863 non-null    datetime64[ns]\n",
      " 1   전체 1차            863 non-null    int64         \n",
      " 2   전체 2차            863 non-null    int64         \n",
      " 3   화이자 1차           863 non-null    int64         \n",
      " 4   화이자 2차           863 non-null    int64         \n",
      " 5   모더나 1차           863 non-null    int64         \n",
      " 6   모더나 2차           863 non-null    int64         \n",
      " 7   아스트라제네카 1차       863 non-null    int64         \n",
      " 8   아스트라제네카 2차       863 non-null    int64         \n",
      " 9   얀센 1차·2차         863 non-null    int64         \n",
      " 10  노바백스 1차          863 non-null    int64         \n",
      " 11  노바백스 2차          863 non-null    int64         \n",
      " 12  스카이코비원 1차        863 non-null    int64         \n",
      " 13  스카이코비원 2차        863 non-null    int64         \n",
      " 14  기타 1차            863 non-null    int64         \n",
      " 15  기타 2차            863 non-null    int64         \n",
      " 16  전체 동절기           863 non-null    int64         \n",
      " 17  모더나(BA.1) 동절기    863 non-null    int64         \n",
      " 18  모더나(BA.4/5) 동절기  863 non-null    int64         \n",
      " 19  화이자(BA.1)동절기     863 non-null    int64         \n",
      " 20  화이자(BA.4/5)동절기   863 non-null    int64         \n",
      " 21  노바백스 동절기         863 non-null    int64         \n",
      " 22  스카이코비원 동절기       863 non-null    int64         \n",
      " 23  year             863 non-null    int64         \n",
      " 24  month            863 non-null    int64         \n",
      " 25  day              863 non-null    int64         \n",
      "dtypes: datetime64[ns](1), int64(25)\n",
      "memory usage: 175.4 KB\n"
     ]
    }
   ],
   "source": [
    "a.info()"
   ]
  },
  {
   "cell_type": "code",
   "execution_count": 9,
   "id": "7b7f671a",
   "metadata": {},
   "outputs": [],
   "source": [
    "a = a.iloc[:,[1,2,23,24,25]]"
   ]
  },
  {
   "cell_type": "code",
   "execution_count": 10,
   "id": "4493a9df",
   "metadata": {},
   "outputs": [],
   "source": [
    "order = [\"year\", \"month\", \"day\", \"전체 1차\", \"전체 2차\"]\n",
    "a = a[order]"
   ]
  },
  {
   "cell_type": "code",
   "execution_count": 11,
   "id": "c8dd7a24",
   "metadata": {},
   "outputs": [],
   "source": [
    "a[\"누적1차\"] = 0\n",
    "a[\"누적2차\"] = 0"
   ]
  },
  {
   "cell_type": "code",
   "execution_count": 12,
   "id": "57f5c332",
   "metadata": {},
   "outputs": [],
   "source": [
    "a[\"누적1차\"] = a[\"전체 1차\"].cumsum()\n",
    "a[\"누적2차\"] = a[\"전체 2차\"].cumsum()"
   ]
  },
  {
   "cell_type": "code",
   "execution_count": 13,
   "id": "5d5108a7",
   "metadata": {},
   "outputs": [],
   "source": [
    "a = a.iloc[:,[0,1,2,-2,-1]]"
   ]
  },
  {
   "cell_type": "code",
   "execution_count": 14,
   "id": "5ea0e3c2",
   "metadata": {},
   "outputs": [
    {
     "data": {
      "text/html": [
       "<div>\n",
       "<style scoped>\n",
       "    .dataframe tbody tr th:only-of-type {\n",
       "        vertical-align: middle;\n",
       "    }\n",
       "\n",
       "    .dataframe tbody tr th {\n",
       "        vertical-align: top;\n",
       "    }\n",
       "\n",
       "    .dataframe thead th {\n",
       "        text-align: right;\n",
       "    }\n",
       "</style>\n",
       "<table border=\"1\" class=\"dataframe\">\n",
       "  <thead>\n",
       "    <tr style=\"text-align: right;\">\n",
       "      <th></th>\n",
       "      <th>year</th>\n",
       "      <th>month</th>\n",
       "      <th>day</th>\n",
       "      <th>누적1차</th>\n",
       "      <th>누적2차</th>\n",
       "    </tr>\n",
       "  </thead>\n",
       "  <tbody>\n",
       "    <tr>\n",
       "      <th>0</th>\n",
       "      <td>2021</td>\n",
       "      <td>2</td>\n",
       "      <td>26</td>\n",
       "      <td>39154</td>\n",
       "      <td>11396</td>\n",
       "    </tr>\n",
       "    <tr>\n",
       "      <th>1</th>\n",
       "      <td>2021</td>\n",
       "      <td>2</td>\n",
       "      <td>27</td>\n",
       "      <td>40897</td>\n",
       "      <td>11619</td>\n",
       "    </tr>\n",
       "    <tr>\n",
       "      <th>2</th>\n",
       "      <td>2021</td>\n",
       "      <td>2</td>\n",
       "      <td>28</td>\n",
       "      <td>41922</td>\n",
       "      <td>11727</td>\n",
       "    </tr>\n",
       "    <tr>\n",
       "      <th>3</th>\n",
       "      <td>2021</td>\n",
       "      <td>3</td>\n",
       "      <td>1</td>\n",
       "      <td>43846</td>\n",
       "      <td>11994</td>\n",
       "    </tr>\n",
       "    <tr>\n",
       "      <th>4</th>\n",
       "      <td>2021</td>\n",
       "      <td>3</td>\n",
       "      <td>2</td>\n",
       "      <td>108538</td>\n",
       "      <td>12305</td>\n",
       "    </tr>\n",
       "    <tr>\n",
       "      <th>...</th>\n",
       "      <td>...</td>\n",
       "      <td>...</td>\n",
       "      <td>...</td>\n",
       "      <td>...</td>\n",
       "      <td>...</td>\n",
       "    </tr>\n",
       "    <tr>\n",
       "      <th>858</th>\n",
       "      <td>2023</td>\n",
       "      <td>7</td>\n",
       "      <td>4</td>\n",
       "      <td>44742071</td>\n",
       "      <td>44331406</td>\n",
       "    </tr>\n",
       "    <tr>\n",
       "      <th>859</th>\n",
       "      <td>2023</td>\n",
       "      <td>7</td>\n",
       "      <td>5</td>\n",
       "      <td>44742096</td>\n",
       "      <td>44331426</td>\n",
       "    </tr>\n",
       "    <tr>\n",
       "      <th>860</th>\n",
       "      <td>2023</td>\n",
       "      <td>7</td>\n",
       "      <td>6</td>\n",
       "      <td>44742119</td>\n",
       "      <td>44331452</td>\n",
       "    </tr>\n",
       "    <tr>\n",
       "      <th>861</th>\n",
       "      <td>2023</td>\n",
       "      <td>7</td>\n",
       "      <td>7</td>\n",
       "      <td>44742137</td>\n",
       "      <td>44331488</td>\n",
       "    </tr>\n",
       "    <tr>\n",
       "      <th>862</th>\n",
       "      <td>2023</td>\n",
       "      <td>7</td>\n",
       "      <td>8</td>\n",
       "      <td>44742154</td>\n",
       "      <td>44331497</td>\n",
       "    </tr>\n",
       "  </tbody>\n",
       "</table>\n",
       "<p>863 rows × 5 columns</p>\n",
       "</div>"
      ],
      "text/plain": [
       "     year  month  day      누적1차      누적2차\n",
       "0    2021      2   26     39154     11396\n",
       "1    2021      2   27     40897     11619\n",
       "2    2021      2   28     41922     11727\n",
       "3    2021      3    1     43846     11994\n",
       "4    2021      3    2    108538     12305\n",
       "..    ...    ...  ...       ...       ...\n",
       "858  2023      7    4  44742071  44331406\n",
       "859  2023      7    5  44742096  44331426\n",
       "860  2023      7    6  44742119  44331452\n",
       "861  2023      7    7  44742137  44331488\n",
       "862  2023      7    8  44742154  44331497\n",
       "\n",
       "[863 rows x 5 columns]"
      ]
     },
     "execution_count": 14,
     "metadata": {},
     "output_type": "execute_result"
    }
   ],
   "source": [
    "a"
   ]
  },
  {
   "cell_type": "code",
   "execution_count": 15,
   "id": "0887a8df",
   "metadata": {},
   "outputs": [
    {
     "data": {
      "image/png": "[encoded data removed]",
      "text/plain": [
       "<Figure size 640x480 with 1 Axes>"
      ]
     },
     "metadata": {},
     "output_type": "display_data"
    }
   ],
   "source": [
    "a[\"누적1차\"].plot()\n",
    "a[\"누적2차\"].plot()\n",
    "plt.legend(loc=\"upper left\")\n",
    "plt.show()"
   ]
  },
  {
   "cell_type": "code",
   "execution_count": 17,
   "id": "24823f3b",
   "metadata": {},
   "outputs": [],
   "source": [
    "a.to_csv(\"Project_vaccine.csv\", index = False, encoding = \"euc-kr\")"
   ]
  }
 ],
 "metadata": {
  "kernelspec": {
   "display_name": "Python 3 (ipykernel)",
   "language": "python",
   "name": "python3"
  },
  "language_info": {
   "codemirror_mode": {
    "name": "ipython",
    "version": 3
   },
   "file_extension": ".py",
   "mimetype": "text/x-python",
   "name": "python",
   "nbconvert_exporter": "python",
   "pygments_lexer": "ipython3",
   "version": "3.11.4"
  }
 },
 "nbformat": 4,
 "nbformat_minor": 5
}
