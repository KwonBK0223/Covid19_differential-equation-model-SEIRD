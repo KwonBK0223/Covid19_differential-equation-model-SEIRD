{
 "cells": [
  {
   "cell_type": "code",
   "execution_count": 1,
   "id": "defbf401",
   "metadata": {},
   "outputs": [],
   "source": [
    "import pandas as pd\n",
    "import numpy as np\n",
    "from scipy.integrate import odeint\n",
    "from scipy.optimize import curve_fit\n",
    "import matplotlib as mpl\n",
    "import matplotlib.pyplot as plt\n",
    "\n",
    "mpl.rc('font', family = 'Gulim')\n",
    "mpl.rcParams['axes.unicode_minus']=False"
   ]
  },
  {
   "cell_type": "code",
   "execution_count": 2,
   "id": "26ca05f9",
   "metadata": {},
   "outputs": [],
   "source": [
    "a = pd.read_csv(\"Project_week.csv\", encoding = \"euc-kr\")"
   ]
  },
  {
   "cell_type": "code",
   "execution_count": 3,
   "id": "78ecf4de",
   "metadata": {},
   "outputs": [
    {
     "name": "stdout",
     "output_type": "stream",
     "text": [
      "<class 'pandas.core.frame.DataFrame'>\n",
      "RangeIndex: 181 entries, 0 to 180\n",
      "Data columns (total 37 columns):\n",
      " #   Column  Non-Null Count  Dtype\n",
      "---  ------  --------------  -----\n",
      " 0   주차      181 non-null    int64\n",
      " 1   총확진     181 non-null    int64\n",
      " 2   서울확진    181 non-null    int64\n",
      " 3   부산확진    181 non-null    int64\n",
      " 4   대구확진    181 non-null    int64\n",
      " 5   인천확진    181 non-null    int64\n",
      " 6   광주확진    181 non-null    int64\n",
      " 7   대전확진    181 non-null    int64\n",
      " 8   울산확진    181 non-null    int64\n",
      " 9   세종확진    181 non-null    int64\n",
      " 10  경기확진    181 non-null    int64\n",
      " 11  강원확진    181 non-null    int64\n",
      " 12  충북확진    181 non-null    int64\n",
      " 13  충남확진    181 non-null    int64\n",
      " 14  전북확진    181 non-null    int64\n",
      " 15  전남확진    181 non-null    int64\n",
      " 16  경북확진    181 non-null    int64\n",
      " 17  경남확진    181 non-null    int64\n",
      " 18  제주확진    181 non-null    int64\n",
      " 19  총사망     181 non-null    int64\n",
      " 20  서울사망    181 non-null    int64\n",
      " 21  부산사망    181 non-null    int64\n",
      " 22  대구사망    181 non-null    int64\n",
      " 23  인천사망    181 non-null    int64\n",
      " 24  광주사망    181 non-null    int64\n",
      " 25  대전사망    181 non-null    int64\n",
      " 26  울산사망    181 non-null    int64\n",
      " 27  세종사망    181 non-null    int64\n",
      " 28  경기사망    181 non-null    int64\n",
      " 29  강원사망    181 non-null    int64\n",
      " 30  충북사망    181 non-null    int64\n",
      " 31  충남사망    181 non-null    int64\n",
      " 32  전북사망    181 non-null    int64\n",
      " 33  전남사망    181 non-null    int64\n",
      " 34  경북사망    181 non-null    int64\n",
      " 35  경남사망    181 non-null    int64\n",
      " 36  제주사망    181 non-null    int64\n",
      "dtypes: int64(37)\n",
      "memory usage: 52.4 KB\n"
     ]
    }
   ],
   "source": [
    "a.info()"
   ]
  },
  {
   "cell_type": "code",
   "execution_count": null,
   "id": "ff021960",
   "metadata": {},
   "outputs": [],
   "source": []
  }
 ],
 "metadata": {
  "kernelspec": {
   "display_name": "Python 3 (ipykernel)",
   "language": "python",
   "name": "python3"
  },
  "language_info": {
   "codemirror_mode": {
    "name": "ipython",
    "version": 3
   },
   "file_extension": ".py",
   "mimetype": "text/x-python",
   "name": "python",
   "nbconvert_exporter": "python",
   "pygments_lexer": "ipython3",
   "version": "3.11.4"
  }
 },
 "nbformat": 4,
 "nbformat_minor": 5
}
