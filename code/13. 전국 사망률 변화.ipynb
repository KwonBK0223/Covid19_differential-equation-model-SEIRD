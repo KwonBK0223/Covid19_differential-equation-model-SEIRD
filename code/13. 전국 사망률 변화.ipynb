{
 "cells": [
  {
   "cell_type": "code",
   "execution_count": 1,
   "id": "63463bca",
   "metadata": {},
   "outputs": [],
   "source": [
    "import pandas as pd\n",
    "import numpy as np\n",
    "\n",
    "import matplotlib as mpl\n",
    "import matplotlib.pyplot as plt\n",
    "\n",
    "from scipy.integrate import odeint\n",
    "from scipy.optimize import minimize\n",
    "\n",
    "mpl.rc('font', family = 'Gulim')\n",
    "mpl.rcParams['axes.unicode_minus']=False"
   ]
  },
  {
   "cell_type": "code",
   "execution_count": 2,
   "id": "c7e734a1",
   "metadata": {},
   "outputs": [],
   "source": [
    "a = pd.read_csv(\"Project_week.csv\", encoding = \"euc-kr\")"
   ]
  },
  {
   "cell_type": "markdown",
   "id": "4f6bd767",
   "metadata": {},
   "source": [
    "# 인구"
   ]
  },
  {
   "cell_type": "code",
   "execution_count": 3,
   "id": "c59ec92b",
   "metadata": {},
   "outputs": [],
   "source": [
    "# 총인구\n",
    "b = pd.read_csv(\"Projecti_population.csv\", encoding = \"euc-kr\")\n",
    "\n",
    "b = b.transpose()\n",
    "b.columns = [\"전국\",\"서울\",\"부산\",\"대구\",\"인천\",\"광주\",\"대전\",\"울산\",\"세종\",\"경기\",\"강원\",\"충북\",\"충남\",\n",
    "            \"전북\",\"전남\",\"경북\",\"경남\",\"제주\"]\n",
    "b =b.iloc[1:]\n",
    "b = b.astype(int)\n",
    "b = (b/10000).astype(int)\n",
    "\n",
    "b_des = b.describe()\n",
    "\n",
    "population = b_des.iloc[5].astype(int)\n",
    "population = population * 10000"
   ]
  },
  {
   "cell_type": "code",
   "execution_count": 4,
   "id": "9bd07548",
   "metadata": {},
   "outputs": [
    {
     "data": {
      "text/plain": [
       "전국    51660000\n",
       "서울     9530000\n",
       "부산     3350000\n",
       "대구     2390000\n",
       "인천     2950000\n",
       "광주     1440000\n",
       "대전     1450000\n",
       "울산     1120000\n",
       "세종      360000\n",
       "경기    13540000\n",
       "강원     1530000\n",
       "충북     1590000\n",
       "충남     2110000\n",
       "전북     1780000\n",
       "전남     1830000\n",
       "경북     2620000\n",
       "경남     3310000\n",
       "제주      670000\n",
       "Name: 50%, dtype: int32"
      ]
     },
     "execution_count": 4,
     "metadata": {},
     "output_type": "execute_result"
    }
   ],
   "source": [
    "population"
   ]
  },
  {
   "cell_type": "markdown",
   "id": "f31b23c2",
   "metadata": {},
   "source": [
    "# 전국"
   ]
  },
  {
   "cell_type": "code",
   "execution_count": 5,
   "id": "6b5997c8",
   "metadata": {},
   "outputs": [],
   "source": [
    "# 데이터 추출\n",
    "a1 = a.iloc[:,[0,1,19]]"
   ]
  },
  {
   "cell_type": "code",
   "execution_count": 6,
   "id": "a7e67b21",
   "metadata": {},
   "outputs": [
    {
     "name": "stderr",
     "output_type": "stream",
     "text": [
      "C:\\Users\\lg\\AppData\\Local\\Temp\\ipykernel_14280\\953522611.py:3: SettingWithCopyWarning: \n",
      "A value is trying to be set on a copy of a slice from a DataFrame.\n",
      "Try using .loc[row_indexer,col_indexer] = value instead\n",
      "\n",
      "See the caveats in the documentation: https://pandas.pydata.org/pandas-docs/stable/user_guide/indexing.html#returning-a-view-versus-a-copy\n",
      "  a1[\"S\"] = 0\n",
      "C:\\Users\\lg\\AppData\\Local\\Temp\\ipykernel_14280\\953522611.py:4: SettingWithCopyWarning: \n",
      "A value is trying to be set on a copy of a slice from a DataFrame.\n",
      "Try using .loc[row_indexer,col_indexer] = value instead\n",
      "\n",
      "See the caveats in the documentation: https://pandas.pydata.org/pandas-docs/stable/user_guide/indexing.html#returning-a-view-versus-a-copy\n",
      "  a1[\"E\"] = 0\n",
      "C:\\Users\\lg\\AppData\\Local\\Temp\\ipykernel_14280\\953522611.py:5: SettingWithCopyWarning: \n",
      "A value is trying to be set on a copy of a slice from a DataFrame.\n",
      "Try using .loc[row_indexer,col_indexer] = value instead\n",
      "\n",
      "See the caveats in the documentation: https://pandas.pydata.org/pandas-docs/stable/user_guide/indexing.html#returning-a-view-versus-a-copy\n",
      "  a1[\"R\"] = 0\n"
     ]
    }
   ],
   "source": [
    "# S,E,I,R,D 각각의 수치 데이터 만들기\n",
    "a1.columns = [\"week\",\"I\", \"D\"]\n",
    "a1[\"S\"] = 0\n",
    "a1[\"E\"] = 0\n",
    "a1[\"R\"] = 0\n",
    "a1 = a1[[\"week\",\"S\",\"E\",\"I\",\"R\",\"D\"]]"
   ]
  },
  {
   "cell_type": "code",
   "execution_count": 7,
   "id": "5adf2906",
   "metadata": {},
   "outputs": [],
   "source": [
    "# 잠복기를 1주일~2주일이라고 가정\n",
    "# E 데이터는 다음주 I + 다다음주 I\n",
    "for i in range(len(a1) - 2):\n",
    "    a1.iloc[i,2] = a1.iloc[i + 1, 3] + a1.iloc[i + 2 , 3]\n",
    "    \n",
    "# I 인 사람은 1주일 후에 회복이라고 가정\n",
    "# R 데이터는 지난주 I - 이번주 D\n",
    "for i in range(1, len(a1)):\n",
    "    a1.iloc[i,-2] = a1.iloc[i-1,-2] + a1.iloc[i-1,-3] - a1.iloc[i,-1]\n",
    "\n",
    "# 전체 인구수 = S + E + I + R + D\n",
    "# S = 전체인구수 - (E + I + R + D)\n",
    "a1.iloc[0,1] = population[\"전국\"] - a1.iloc[0,2] - a1.iloc[0,3] - a1.iloc[0,4] - a1.iloc[0,5]\n",
    "for i in range(1,len(a1)):\n",
    "    a1.iloc[i,1] = a1.iloc[i-1, 1] - a1.iloc[i,2] - a1.iloc[i,3] - a1.iloc[i,4] - a1.iloc[i,5]\n",
    "\n",
    "a1[\"D'\"] = 0\n",
    "a1[\"D'\"] = a1[\"D\"].cumsum()\n",
    "\n",
    "a1 = a1.iloc[:,[0,1,2,3,4,6]]\n",
    "a1.columns = [\"week\", \"S\", \"E\", \"I\", \"R\", \"D\"]"
   ]
  },
  {
   "cell_type": "code",
   "execution_count": 8,
   "id": "07e6d2b6",
   "metadata": {},
   "outputs": [],
   "source": [
    "mu=[]"
   ]
  },
  {
   "cell_type": "code",
   "execution_count": 9,
   "id": "eb3db0c5",
   "metadata": {
    "scrolled": true
   },
   "outputs": [
    {
     "name": "stdout",
     "output_type": "stream",
     "text": [
      "7 Week Estimated Parameters: [1.55181480e+06 1.19242462e+01 1.52166726e-02]\n",
      "8 Week Estimated Parameters: [1.93177470e+04 2.14528251e+01 1.22212775e-02]\n",
      "9 Week Estimated Parameters: [5.61203555e+02 2.79233505e+01 1.15577962e-02]\n",
      "10 Week Estimated Parameters: [1.67345642e+02 3.60542847e+01 1.78121868e-02]\n",
      "11 Week Estimated Parameters: [2.22149176e+02 3.61936242e+01 1.40795366e-02]\n",
      "12 Week Estimated Parameters: [1.57231756e+02 4.00178985e+01 1.50855997e-02]\n",
      "13 Week Estimated Parameters: [1.46280488e+02 4.10384468e+01 1.66023096e-02]\n",
      "14 Week Estimated Parameters: [1.55373319e+02 3.98090465e+01 1.87806281e-02]\n",
      "15 Week Estimated Parameters: [1.41513960e+02 3.98236213e+01 1.98514591e-02]\n",
      "16 Week Estimated Parameters: [1.87056513e+02 3.61763606e+01 2.14100980e-02]\n",
      "17 Week Estimated Parameters: [4.96927931e+01 7.23673264e+01 2.24661353e-02]\n",
      "18 Week Estimated Parameters: [1.34069348e+03 2.91993505e+01 2.16916224e-02]\n",
      "19 Week Estimated Parameters: [6.63332479e+04 2.77385172e+01 2.18927807e-02]\n",
      "20 Week Estimated Parameters: [5.16998440e+02 2.83950825e+01 2.17765440e-02]\n",
      "21 Week Estimated Parameters: [1.11056873e+02 3.44115305e+01 2.28545972e-02]\n",
      "22 Week Estimated Parameters: [2.11291596e+02 2.91606816e+01 2.23485016e-02]\n",
      "23 Week Estimated Parameters: [2.16002949e+03 2.53046759e+01 2.25965177e-02]\n",
      "24 Week Estimated Parameters: [1.88820703e+02 2.81204201e+01 2.31165179e-02]\n",
      "25 Week Estimated Parameters: [2.31550896e+02 2.67234831e+01 2.30028652e-02]\n",
      "26 Week Estimated Parameters: [6.90676394e+02 2.43136612e+01 2.12876212e-02]\n",
      "27 Week Estimated Parameters: [2.67102273e+02 2.52828028e+01 2.21188476e-02]\n",
      "28 Week Estimated Parameters: [3.46147231e+01 6.58403903e+01 2.22352930e-02]\n",
      "29 Week Estimated Parameters: [1.35329868e+02 2.67088067e+01 2.13724479e-02]\n",
      "30 Week Estimated Parameters: [2.17307471e+03 2.22023565e+01 2.21301792e-02]\n",
      "31 Week Estimated Parameters: [1.52059664e+02 2.52616243e+01 2.12146965e-02]\n",
      "32 Week Estimated Parameters: [2.18043981e+02 2.40309383e+01 2.16943072e-02]\n",
      "33 Week Estimated Parameters: [2.11462756e+03 2.20103484e+01 2.11049736e-02]\n",
      "34 Week Estimated Parameters: [1.50744625e+02 2.56785487e+01 2.05392783e-02]\n",
      "35 Week Estimated Parameters: [2.56288374e+04 2.21772437e+01 2.03773392e-02]\n",
      "36 Week Estimated Parameters: [2.74876343e+01 1.19091230e+02 2.01026309e-02]\n",
      "37 Week Estimated Parameters: [2.32023396e+01 7.43604689e+02 2.03059017e-02]\n",
      "38 Week Estimated Parameters: [5.35353003e+01 3.91415910e+01 1.98456136e-02]\n",
      "39 Week Estimated Parameters: [9.94952569e+01 2.94500243e+01 1.91130473e-02]\n",
      "40 Week Estimated Parameters: [9.62286171e+03 2.28850872e+01 1.95493916e-02]\n",
      "41 Week Estimated Parameters: [8.12868347e+01 3.19499424e+01 1.97533782e-02]\n",
      "42 Week Estimated Parameters: [9.74866714e+01 3.00974986e+01 1.92667050e-02]\n",
      "43 Week Estimated Parameters: [1.62109176e+02 2.69140289e+01 1.90629579e-02]\n",
      "44 Week Estimated Parameters: [3.89042132e+01 5.75204751e+01 1.86565945e-02]\n",
      "45 Week Estimated Parameters: [8.57159263e+01 3.21607844e+01 1.88624528e-02]\n",
      "46 Week Estimated Parameters: [2.86719270e+02 2.58085739e+01 1.81081109e-02]\n",
      "47 Week Estimated Parameters: [6.30885345e+01 3.91061609e+01 1.81753216e-02]\n",
      "48 Week Estimated Parameters: [4.07424759e+02 2.63669208e+01 1.83163796e-02]\n",
      "49 Week Estimated Parameters: [1.37949345e+02 3.14452887e+01 1.76015620e-02]\n",
      "50 Week Estimated Parameters: [1.13474636e+02 3.49112799e+01 1.80006123e-02]\n",
      "51 Week Estimated Parameters: [4.78874549e+01 6.68640880e+01 1.79878903e-02]\n",
      "52 Week Estimated Parameters: [1.11279420e+02 3.95291857e+01 1.75291940e-02]\n",
      "53 Week Estimated Parameters: [2.38284457e+02 3.49205698e+01 1.79086377e-02]\n",
      "54 Week Estimated Parameters: [1.70205534e+02 3.89372156e+01 1.81417955e-02]\n",
      "55 Week Estimated Parameters: [1.27117991e+02 4.43173322e+01 1.78392799e-02]\n",
      "56 Week Estimated Parameters: [1.24389692e+02 4.68414331e+01 1.81098933e-02]\n",
      "57 Week Estimated Parameters: [2.54313476e+02 4.07970302e+01 1.82470384e-02]\n",
      "58 Week Estimated Parameters: [1.55899532e+02 4.72467970e+01 1.82802816e-02]\n",
      "59 Week Estimated Parameters: [1.05753610e+02 5.76829267e+01 1.82775525e-02]\n",
      "60 Week Estimated Parameters: [4.19986865e+02 4.22132457e+01 1.81299763e-02]\n",
      "61 Week Estimated Parameters: [9.12427688e+01 6.93050236e+01 1.81248886e-02]\n",
      "62 Week Estimated Parameters: [1.40981598e+02 5.65773812e+01 1.79129536e-02]\n",
      "63 Week Estimated Parameters: [1.42642817e+02 5.82570611e+01 1.81601783e-02]\n",
      "64 Week Estimated Parameters: [1.35863943e+02 6.14761953e+01 1.80522792e-02]\n",
      "65 Week Estimated Parameters: [1.12687704e+02 7.03362963e+01 1.77564085e-02]\n",
      "66 Week Estimated Parameters: [6.01176628e+01 1.68247042e+02 1.76776151e-02]\n",
      "67 Week Estimated Parameters: [8.35325515e+01 9.89031213e+01 1.76424757e-02]\n",
      "68 Week Estimated Parameters: [5.83613550e+01 2.23631846e+02 1.72489996e-02]\n",
      "69 Week Estimated Parameters: [6.72188611e+01 1.59619798e+02 1.66787073e-02]\n",
      "70 Week Estimated Parameters: [1.47921592e+02 7.17981290e+01 1.72037098e-02]\n",
      "71 Week Estimated Parameters: [1.18631947e+02 8.44563680e+01 1.69233805e-02]\n",
      "72 Week Estimated Parameters: [1.83698816e+02 6.93067489e+01 1.67781841e-02]\n",
      "73 Week Estimated Parameters: [1.55060820e+02 7.66575807e+01 1.65837318e-02]\n",
      "74 Week Estimated Parameters: [1.47463689e+02 8.09353358e+01 1.63184145e-02]\n",
      "75 Week Estimated Parameters: [1.66580984e+02 7.81691198e+01 1.62504763e-02]\n",
      "76 Week Estimated Parameters: [1.55034378e+02 8.31832004e+01 1.60917771e-02]\n",
      "77 Week Estimated Parameters: [1.17655374e+02 1.03518305e+02 1.58589453e-02]\n",
      "78 Week Estimated Parameters: [1.63985145e+02 8.52141879e+01 1.56815031e-02]\n",
      "79 Week Estimated Parameters: [1.74528986e+02 8.49911409e+01 1.53193524e-02]\n",
      "80 Week Estimated Parameters: [1.20545150e+02 1.13137078e+02 1.53597942e-02]\n",
      "81 Week Estimated Parameters: [1.33374222e+02 1.07871836e+02 1.50358726e-02]\n",
      "82 Week Estimated Parameters: [1.74392534e+02 9.38107712e+01 1.45645449e-02]\n",
      "83 Week Estimated Parameters: [1.87335072e+02 9.36988666e+01 1.42505185e-02]\n",
      "84 Week Estimated Parameters: [2.18665829e+02 9.05112483e+01 1.40809239e-02]\n",
      "85 Week Estimated Parameters: [1.81947777e+02 1.02703047e+02 1.39064503e-02]\n",
      "86 Week Estimated Parameters: [1.35931560e+02 1.33272469e+02 1.35174014e-02]\n",
      "87 Week Estimated Parameters: [1.17338318e+02 1.67861874e+02 1.32299426e-02]\n",
      "88 Week Estimated Parameters: [1.31604105e+02 1.53451195e+02 1.28180949e-02]\n",
      "89 Week Estimated Parameters: [1.05105039e+02 2.36568623e+02 1.26882977e-02]\n",
      "90 Week Estimated Parameters: [1.59887608e+02 1.40462341e+02 1.23916322e-02]\n",
      "91 Week Estimated Parameters: [1.84887514e+02 1.31390081e+02 1.21460340e-02]\n",
      "92 Week Estimated Parameters: [1.70895212e+02 1.46340693e+02 1.18883445e-02]\n",
      "93 Week Estimated Parameters: [1.31995092e+02 2.08868369e+02 1.17070937e-02]\n",
      "94 Week Estimated Parameters: [1.49549521e+02 1.86103919e+02 1.13039872e-02]\n",
      "95 Week Estimated Parameters: [2.45325156e+02 1.30196070e+02 1.12909207e-02]\n",
      "96 Week Estimated Parameters: [2.15289936e+02 1.46664943e+02 1.11538569e-02]\n",
      "97 Week Estimated Parameters: [1.06460608e+02 5.60573357e+02 1.10149679e-02]\n",
      "98 Week Estimated Parameters: [1.57891070e+02 2.20177362e+02 1.10771106e-02]\n",
      "99 Week Estimated Parameters: [2.99899377e+02 1.38233329e+02 1.07752382e-02]\n"
     ]
    }
   ],
   "source": [
    "for i in range(7,100):\n",
    "    data = a1.iloc[:i]\n",
    "#     fig, ax1 = plt.subplots(figsize=(12, 6))\n",
    "\n",
    "#     ax1.plot(data['week'], data['S'], label='S', linestyle='-')\n",
    "#     ax1.set_ylabel('Number of Individuals')\n",
    "\n",
    "#     ax2 = ax1.twinx() \n",
    "#     ax2.plot(data['week'], data['E'], label='E', linestyle='-')\n",
    "#     ax2.plot(data['week'], data['I'], label='I', linestyle='-')\n",
    "#     ax2.plot(data['week'], data['R'], label='R',linestyle='-')\n",
    "#     ax2.plot(data['week'], data['D'], label='D',linestyle='-')\n",
    "#     ax2.set_ylabel('Number of Individuals')\n",
    "#     ax2.set_title('SEIR Model - S, E, I, R, D (Korea)')\n",
    "\n",
    "#     lines, labels = ax1.get_legend_handles_labels()\n",
    "#     lines2, labels2 = ax2.get_legend_handles_labels()\n",
    "#     ax1.legend(lines + lines2, labels + labels2, loc='upper left')\n",
    "\n",
    "#     # Adjust the layout to prevent label overlapping\n",
    "#     fig.tight_layout()\n",
    "\n",
    "#     plt.show()\n",
    "\n",
    "    data = data.iloc[:,[0,2,3,4,5]]\n",
    "\n",
    "    # 주어진 ODEs\n",
    "    def model(y, t, alpha, gamma, mu):\n",
    "        E, I, R, D = y\n",
    "        dEdt = -alpha * E + gamma * I\n",
    "        dIdt = alpha * E - gamma * I\n",
    "        dRdt = gamma * (1 - mu) * I\n",
    "        dDdt = gamma * mu * I\n",
    "        return [dEdt, dIdt, dRdt, dDdt]\n",
    "\n",
    "    # 오차 함수\n",
    "    def loss(params, data, times):\n",
    "        alpha, gamma, mu = params\n",
    "        y0 = data.iloc[0, 1:5].values\n",
    "        ode_sol = odeint(model, y0, times, args=(alpha, gamma, mu))\n",
    "        diff = ode_sol[:, 1:4] - data.iloc[:, 2:5].values\n",
    "        return np.sum(diff**2)\n",
    "\n",
    "\n",
    "    # 시간 값\n",
    "    times = data['week']\n",
    "\n",
    "    # 초기 추정값\n",
    "    initial_alpha = 0.1\n",
    "    initial_gamma = 0.1\n",
    "    initial_mu = 0.1\n",
    "    initial_params = [initial_alpha, initial_gamma, initial_mu]\n",
    "\n",
    "    # 최적화 수행\n",
    "    result = minimize(loss, initial_params, args=(data, times), method='Nelder-Mead')\n",
    "\n",
    "    # 추정된 파라미터\n",
    "    estimated_params = result.x\n",
    "    print(i,\"Week\",\"Estimated Parameters:\", estimated_params)\n",
    "    mu.append([i,estimated_params[-1]])"
   ]
  },
  {
   "cell_type": "code",
   "execution_count": 10,
   "id": "f7f100d6",
   "metadata": {},
   "outputs": [],
   "source": []
  },
  {
   "cell_type": "code",
   "execution_count": 11,
   "id": "6a8988e2",
   "metadata": {},
   "outputs": [
    {
     "data": {
      "image/png": "[encoded data removed]",
      "text/plain": [
       "<Figure size 640x480 with 1 Axes>"
      ]
     },
     "metadata": {},
     "output_type": "display_data"
    }
   ],
   "source": [
    "x = pd.DataFrame(mu, columns = [\"week\", \"mu\"])\n",
    "plt.plot(x[\"week\"], x[\"mu\"], marker = 'o')\n",
    "plt.grid(True)\n",
    "plt.show()"
   ]
  },
  {
   "cell_type": "code",
   "execution_count": null,
   "id": "9a4ebe06",
   "metadata": {},
   "outputs": [],
   "source": []
  }
 ],
 "metadata": {
  "kernelspec": {
   "display_name": "Python 3 (ipykernel)",
   "language": "python",
   "name": "python3"
  },
  "language_info": {
   "codemirror_mode": {
    "name": "ipython",
    "version": 3
   },
   "file_extension": ".py",
   "mimetype": "text/x-python",
   "name": "python",
   "nbconvert_exporter": "python",
   "pygments_lexer": "ipython3",
   "version": "3.11.4"
  }
 },
 "nbformat": 4,
 "nbformat_minor": 5
}
