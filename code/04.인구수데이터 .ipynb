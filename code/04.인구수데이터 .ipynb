{
 "cells": [
  {
   "cell_type": "code",
   "execution_count": 13,
   "id": "22291dd5",
   "metadata": {},
   "outputs": [],
   "source": [
    "import pandas as pd\n",
    "import matplotlib as mpl\n",
    "import matplotlib.pyplot as plt\n",
    "\n",
    "mpl.rc('font', family = 'Gulim')\n",
    "mpl.rcParams['axes.unicode_minus']=False"
   ]
  },
  {
   "cell_type": "code",
   "execution_count": 2,
   "id": "de7825f9",
   "metadata": {},
   "outputs": [],
   "source": [
    "data1 = pd.read_csv(\"202002_202012_주민등록인구및세대현황_월간.csv\", encoding = \"euc-kr\")\n",
    "data2 = pd.read_csv(\"202101_202112_주민등록인구및세대현황_월간.csv\", encoding = \"euc-kr\")\n",
    "data3 = pd.read_csv(\"202201_202212_주민등록인구및세대현황_월간.csv\", encoding = \"euc-kr\")\n",
    "data4 = pd.read_csv(\"202301_202306_주민등록인구및세대현황_월간.csv\", encoding = \"euc-kr\")"
   ]
  },
  {
   "cell_type": "code",
   "execution_count": 3,
   "id": "b76bc022",
   "metadata": {},
   "outputs": [],
   "source": [
    "data1 = data1.iloc[:,[0,1,4,7,10,13,16,19,22,25,28,31]]\n",
    "data2 = data2.iloc[:,[0,1,4,7,10,13,16,19,22,25,28,31,34]]\n",
    "data3 = data3.iloc[:,[0,1,4,7,10,13,16,19,22,25,28,31,34]]\n",
    "data4 = data4.iloc[:,[0,1,4,7,10,13,16]]"
   ]
  },
  {
   "cell_type": "code",
   "execution_count": 4,
   "id": "1feadc4a",
   "metadata": {},
   "outputs": [],
   "source": [
    "data4.iloc[10,-1] = data4.iloc[11,-1]\n",
    "data4 = data4.drop(11)\n",
    "data4 = data4.reset_index(drop=True)"
   ]
  },
  {
   "cell_type": "code",
   "execution_count": 5,
   "id": "6d8facd5",
   "metadata": {},
   "outputs": [],
   "source": [
    "data2 = data2.iloc[:,1:]\n",
    "data3 = data3.iloc[:,1:]\n",
    "data4 = data4.iloc[:,1:]"
   ]
  },
  {
   "cell_type": "code",
   "execution_count": 6,
   "id": "e285ed9c",
   "metadata": {},
   "outputs": [],
   "source": [
    "total = pd.concat([data1, data2, data3, data4], axis = 1)"
   ]
  },
  {
   "cell_type": "code",
   "execution_count": 9,
   "id": "2feffbcb",
   "metadata": {},
   "outputs": [],
   "source": [
    "total[\"2020년02월_총인구수\"] = total[\"2020년02월_총인구수\"].str.replace(',', '').astype(int)\n",
    "total[\"2020년03월_총인구수\"] = total[\"2020년03월_총인구수\"].str.replace(',', '').astype(int)\n",
    "total[\"2020년04월_총인구수\"] = total[\"2020년04월_총인구수\"].str.replace(',', '').astype(int)\n",
    "total[\"2020년05월_총인구수\"] = total[\"2020년05월_총인구수\"].str.replace(',', '').astype(int)\n",
    "total[\"2020년06월_총인구수\"] = total[\"2020년06월_총인구수\"].str.replace(',', '').astype(int)\n",
    "total[\"2020년07월_총인구수\"] = total[\"2020년07월_총인구수\"].str.replace(',', '').astype(int)\n",
    "total[\"2020년08월_총인구수\"] = total[\"2020년08월_총인구수\"].str.replace(',', '').astype(int)\n",
    "total[\"2020년09월_총인구수\"] = total[\"2020년09월_총인구수\"].str.replace(',', '').astype(int)\n",
    "total[\"2020년10월_총인구수\"] = total[\"2020년10월_총인구수\"].str.replace(',', '').astype(int)\n",
    "total[\"2020년11월_총인구수\"] = total[\"2020년11월_총인구수\"].str.replace(',', '').astype(int)\n",
    "total[\"2020년12월_총인구수\"] = total[\"2020년12월_총인구수\"].str.replace(',', '').astype(int)\n",
    "\n",
    "total[\"2021년01월_총인구수\"] = total[\"2021년01월_총인구수\"].str.replace(',', '').astype(int)\n",
    "total[\"2021년02월_총인구수\"] = total[\"2021년02월_총인구수\"].str.replace(',', '').astype(int)\n",
    "total[\"2021년03월_총인구수\"] = total[\"2021년03월_총인구수\"].str.replace(',', '').astype(int)\n",
    "total[\"2021년04월_총인구수\"] = total[\"2021년04월_총인구수\"].str.replace(',', '').astype(int)\n",
    "total[\"2021년05월_총인구수\"] = total[\"2021년05월_총인구수\"].str.replace(',', '').astype(int)\n",
    "total[\"2021년06월_총인구수\"] = total[\"2021년06월_총인구수\"].str.replace(',', '').astype(int)\n",
    "total[\"2021년07월_총인구수\"] = total[\"2021년07월_총인구수\"].str.replace(',', '').astype(int)\n",
    "total[\"2021년08월_총인구수\"] = total[\"2021년08월_총인구수\"].str.replace(',', '').astype(int)\n",
    "total[\"2021년09월_총인구수\"] = total[\"2021년09월_총인구수\"].str.replace(',', '').astype(int)\n",
    "total[\"2021년10월_총인구수\"] = total[\"2021년10월_총인구수\"].str.replace(',', '').astype(int)\n",
    "total[\"2021년11월_총인구수\"] = total[\"2021년11월_총인구수\"].str.replace(',', '').astype(int)\n",
    "total[\"2021년12월_총인구수\"] = total[\"2021년12월_총인구수\"].str.replace(',', '').astype(int)\n",
    "\n",
    "total[\"2022년01월_총인구수\"] = total[\"2022년01월_총인구수\"].str.replace(',', '').astype(int)\n",
    "total[\"2022년02월_총인구수\"] = total[\"2022년02월_총인구수\"].str.replace(',', '').astype(int)\n",
    "total[\"2022년03월_총인구수\"] = total[\"2022년03월_총인구수\"].str.replace(',', '').astype(int)\n",
    "total[\"2022년04월_총인구수\"] = total[\"2022년04월_총인구수\"].str.replace(',', '').astype(int)\n",
    "total[\"2022년05월_총인구수\"] = total[\"2022년05월_총인구수\"].str.replace(',', '').astype(int)\n",
    "total[\"2022년06월_총인구수\"] = total[\"2022년06월_총인구수\"].str.replace(',', '').astype(int)\n",
    "total[\"2022년07월_총인구수\"] = total[\"2022년07월_총인구수\"].str.replace(',', '').astype(int)\n",
    "total[\"2022년08월_총인구수\"] = total[\"2022년08월_총인구수\"].str.replace(',', '').astype(int)\n",
    "total[\"2022년09월_총인구수\"] = total[\"2022년09월_총인구수\"].str.replace(',', '').astype(int)\n",
    "total[\"2022년10월_총인구수\"] = total[\"2022년10월_총인구수\"].str.replace(',', '').astype(int)\n",
    "total[\"2022년11월_총인구수\"] = total[\"2022년11월_총인구수\"].str.replace(',', '').astype(int)\n",
    "total[\"2022년12월_총인구수\"] = total[\"2022년12월_총인구수\"].str.replace(',', '').astype(int)\n",
    "\n",
    "total[\"2023년01월_총인구수\"] = total[\"2023년01월_총인구수\"].str.replace(',', '').astype(int)\n",
    "total[\"2023년02월_총인구수\"] = total[\"2023년02월_총인구수\"].str.replace(',', '').astype(int)\n",
    "total[\"2023년03월_총인구수\"] = total[\"2023년03월_총인구수\"].str.replace(',', '').astype(int)\n",
    "total[\"2023년04월_총인구수\"] = total[\"2023년04월_총인구수\"].str.replace(',', '').astype(int)\n",
    "total[\"2023년05월_총인구수\"] = total[\"2023년05월_총인구수\"].str.replace(',', '').astype(int)\n",
    "total[\"2023년06월_총인구수\"] = total[\"2023년06월_총인구수\"].str.replace(',', '').astype(int)"
   ]
  },
  {
   "cell_type": "code",
   "execution_count": 12,
   "id": "3917384c",
   "metadata": {},
   "outputs": [
    {
     "name": "stdout",
     "output_type": "stream",
     "text": [
      "<class 'pandas.core.frame.DataFrame'>\n",
      "RangeIndex: 18 entries, 0 to 17\n",
      "Data columns (total 42 columns):\n",
      " #   Column         Non-Null Count  Dtype \n",
      "---  ------         --------------  ----- \n",
      " 0   행정구역           18 non-null     object\n",
      " 1   2020년02월_총인구수  18 non-null     int32 \n",
      " 2   2020년03월_총인구수  18 non-null     int32 \n",
      " 3   2020년04월_총인구수  18 non-null     int32 \n",
      " 4   2020년05월_총인구수  18 non-null     int32 \n",
      " 5   2020년06월_총인구수  18 non-null     int32 \n",
      " 6   2020년07월_총인구수  18 non-null     int32 \n",
      " 7   2020년08월_총인구수  18 non-null     int32 \n",
      " 8   2020년09월_총인구수  18 non-null     int32 \n",
      " 9   2020년10월_총인구수  18 non-null     int32 \n",
      " 10  2020년11월_총인구수  18 non-null     int32 \n",
      " 11  2020년12월_총인구수  18 non-null     int32 \n",
      " 12  2021년01월_총인구수  18 non-null     int32 \n",
      " 13  2021년02월_총인구수  18 non-null     int32 \n",
      " 14  2021년03월_총인구수  18 non-null     int32 \n",
      " 15  2021년04월_총인구수  18 non-null     int32 \n",
      " 16  2021년05월_총인구수  18 non-null     int32 \n",
      " 17  2021년06월_총인구수  18 non-null     int32 \n",
      " 18  2021년07월_총인구수  18 non-null     int32 \n",
      " 19  2021년08월_총인구수  18 non-null     int32 \n",
      " 20  2021년09월_총인구수  18 non-null     int32 \n",
      " 21  2021년10월_총인구수  18 non-null     int32 \n",
      " 22  2021년11월_총인구수  18 non-null     int32 \n",
      " 23  2021년12월_총인구수  18 non-null     int32 \n",
      " 24  2022년01월_총인구수  18 non-null     int32 \n",
      " 25  2022년02월_총인구수  18 non-null     int32 \n",
      " 26  2022년03월_총인구수  18 non-null     int32 \n",
      " 27  2022년04월_총인구수  18 non-null     int32 \n",
      " 28  2022년05월_총인구수  18 non-null     int32 \n",
      " 29  2022년06월_총인구수  18 non-null     int32 \n",
      " 30  2022년07월_총인구수  18 non-null     int32 \n",
      " 31  2022년08월_총인구수  18 non-null     int32 \n",
      " 32  2022년09월_총인구수  18 non-null     int32 \n",
      " 33  2022년10월_총인구수  18 non-null     int32 \n",
      " 34  2022년11월_총인구수  18 non-null     int32 \n",
      " 35  2022년12월_총인구수  18 non-null     int32 \n",
      " 36  2023년01월_총인구수  18 non-null     int32 \n",
      " 37  2023년02월_총인구수  18 non-null     int32 \n",
      " 38  2023년03월_총인구수  18 non-null     int32 \n",
      " 39  2023년04월_총인구수  18 non-null     int32 \n",
      " 40  2023년05월_총인구수  18 non-null     int32 \n",
      " 41  2023년06월_총인구수  18 non-null     int32 \n",
      "dtypes: int32(41), object(1)\n",
      "memory usage: 3.1+ KB\n"
     ]
    }
   ],
   "source": [
    "total.info()"
   ]
  },
  {
   "cell_type": "code",
   "execution_count": 23,
   "id": "6c39d202",
   "metadata": {},
   "outputs": [],
   "source": [
    "total.to_csv(\"Projecti_population.csv\", index = False, encoding = \"euc-kr\")"
   ]
  }
 ],
 "metadata": {
  "kernelspec": {
   "display_name": "Python 3 (ipykernel)",
   "language": "python",
   "name": "python3"
  },
  "language_info": {
   "codemirror_mode": {
    "name": "ipython",
    "version": 3
   },
   "file_extension": ".py",
   "mimetype": "text/x-python",
   "name": "python",
   "nbconvert_exporter": "python",
   "pygments_lexer": "ipython3",
   "version": "3.11.4"
  }
 },
 "nbformat": 4,
 "nbformat_minor": 5
}
