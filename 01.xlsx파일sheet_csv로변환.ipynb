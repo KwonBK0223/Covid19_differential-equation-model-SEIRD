{
 "cells": [
  {
   "cell_type": "code",
   "execution_count": 1,
   "id": "ffea0417",
   "metadata": {},
   "outputs": [],
   "source": [
    "import pandas as pd\n",
    "\n",
    "excel_file_path = '코로나바이러스감염증-19_확진환자_발생현황_230710_최종.xlsx'\n",
    "\n",
    "xls = pd.ExcelFile(excel_file_path)\n",
    "sheet_names = xls.sheet_names\n",
    "\n",
    "sheets_to_load = ['발생별(국내발생+해외유입), 사망', \n",
    "                  '연령별(10세단위)', \n",
    "                  '성별(남+여)',\n",
    "                  '시도별 발생(17개시도+검역)', \n",
    "                  '시도별 사망(17개시도+검역) ', \n",
    "                  '시군구별(발생률,사망률)']\n",
    "\n",
    "data = {}\n",
    "for sheet_name in sheet_names:\n",
    "    if sheet_name in sheets_to_load:\n",
    "        data[sheet_name] = pd.read_excel(excel_file_path, sheet_name=sheet_name)\n",
    "\n",
    "data1= data['발생별(국내발생+해외유입), 사망']\n",
    "data2 = data['연령별(10세단위)']\n",
    "data3 = data['성별(남+여)']\n",
    "data4 = data['시도별 발생(17개시도+검역)']\n",
    "data5 = data['시도별 사망(17개시도+검역) ']\n",
    "data6 = data['시군구별(발생률,사망률)']"
   ]
  },
  {
   "cell_type": "code",
   "execution_count": 2,
   "id": "36bf929e",
   "metadata": {},
   "outputs": [],
   "source": [
    "data1 = data1.iloc[3:].reset_index(drop=True)\n",
    "data2 = data2.iloc[3:].reset_index(drop=True)\n",
    "data3 = data3.iloc[3:].reset_index(drop=True)\n",
    "data4 = data4.iloc[3:].reset_index(drop=True)\n",
    "data5 = data5.iloc[3:].reset_index(drop=True)\n",
    "data6 = data6.iloc[5:].reset_index(drop=True)"
   ]
  },
  {
   "cell_type": "code",
   "execution_count": 3,
   "id": "200ebba5",
   "metadata": {},
   "outputs": [],
   "source": [
    "data1.to_csv(\"확진자_사망자.csv\",index=False, header=False, \n",
    "             encoding=\"euc-kr\")\n",
    "data2.to_csv(\"연령별_확진자.csv\",index=False, header=False, \n",
    "             encoding=\"euc-kr\")\n",
    "data3.to_csv(\"성별_확진자.csv\",index=False, header=False, \n",
    "             encoding=\"euc-kr\")\n",
    "data4.to_csv(\"시도별_확진자.csv\",index=False, header=False, \n",
    "             encoding=\"euc-kr\")\n",
    "data5.to_csv(\"시도별_사망자.csv\",index=False, header=False, \n",
    "             encoding=\"euc-kr\")\n",
    "data6.to_csv(\"시군구별_사망현황.csv\",index=False, header=False, \n",
    "             encoding=\"euc-kr\")"
   ]
  }
 ],
 "metadata": {
  "kernelspec": {
   "display_name": "Python 3 (ipykernel)",
   "language": "python",
   "name": "python3"
  },
  "language_info": {
   "codemirror_mode": {
    "name": "ipython",
    "version": 3
   },
   "file_extension": ".py",
   "mimetype": "text/x-python",
   "name": "python",
   "nbconvert_exporter": "python",
   "pygments_lexer": "ipython3",
   "version": "3.11.4"
  }
 },
 "nbformat": 4,
 "nbformat_minor": 5
}
